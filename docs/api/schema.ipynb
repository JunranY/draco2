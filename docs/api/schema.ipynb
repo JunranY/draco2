{
 "cells": [
  {
   "cell_type": "markdown",
   "metadata": {},
   "source": [
    "# Read Data and Generate the Schema\n",
    "\n",
    "Here, we will cover how to load data and use inferred statistics in Draco."
   ]
  },
  {
   "cell_type": "code",
   "execution_count": 1,
   "metadata": {},
   "outputs": [],
   "source": [
    "from draco import run_clingo, dict_to_facts, schema_from_dataframe"
   ]
  },
  {
   "cell_type": "markdown",
   "metadata": {},
   "source": [
    "In this example, we use a weather dataset from Vega datasets but this could be any Pandas dataframe."
   ]
  },
  {
   "cell_type": "code",
   "execution_count": 2,
   "metadata": {},
   "outputs": [],
   "source": [
    "from vega_datasets import data\n",
    "df = data.seattle_weather()"
   ]
  },
  {
   "cell_type": "code",
   "execution_count": 3,
   "metadata": {},
   "outputs": [
    {
     "output_type": "execute_result",
     "data": {
      "text/plain": [
       "{'numberRows': 1461,\n",
       " 'field': {'date': {'dataType': 'date', 'unique': 1461},\n",
       "  'precipitation': {'dataType': 'number',\n",
       "   'unique': 111,\n",
       "   'min': 0,\n",
       "   'max': 55,\n",
       "   'std': 6},\n",
       "  'temp_max': {'dataType': 'number',\n",
       "   'unique': 67,\n",
       "   'min': -1,\n",
       "   'max': 35,\n",
       "   'std': 7},\n",
       "  'temp_min': {'dataType': 'number',\n",
       "   'unique': 55,\n",
       "   'min': -7,\n",
       "   'max': 18,\n",
       "   'std': 5},\n",
       "  'wind': {'dataType': 'number', 'unique': 79, 'min': 0, 'max': 9, 'std': 1},\n",
       "  'weather': {'dataType': 'string', 'unique': 5, 'freq': 714}}}"
      ]
     },
     "metadata": {},
     "execution_count": 3
    }
   ],
   "source": [
    "schema = schema_from_dataframe(df)\n",
    "schema"
   ]
  },
  {
   "cell_type": "code",
   "execution_count": 4,
   "metadata": {},
   "outputs": [
    {
     "output_type": "execute_result",
     "data": {
      "text/plain": [
       "[Model(answer_set=[fact(numberRows,1461), fact(field,date), fact(field,precipitation), fact(field,temp_max), fact(field,temp_min), fact(field,wind), fact(field,weather), fact(dataType,date,date), fact(unique,date,1461), fact(dataType,precipitation,number), fact(unique,precipitation,111), fact(min,precipitation,0), fact(max,precipitation,55), fact(std,precipitation,6), fact(dataType,temp_max,number), fact(unique,temp_max,67), fact(max,temp_max,35), fact(std,temp_max,7), fact(dataType,temp_min,number), fact(unique,temp_min,55), fact(max,temp_min,18), fact(std,temp_min,5), fact(dataType,wind,number), fact(unique,wind,79), fact(min,wind,0), fact(max,wind,9), fact(std,wind,1), fact(dataType,weather,string), fact(unique,weather,5), fact(freq,weather,714), fact(min,temp_max,-1), fact(min,temp_min,-7)], cost=[], number=1)]"
      ]
     },
     "metadata": {},
     "execution_count": 4
    }
   ],
   "source": [
    "program = dict_to_facts(schema)\n",
    "result = run_clingo(program)\n",
    "\n",
    "list(result)"
   ]
  },
  {
   "cell_type": "code",
   "execution_count": null,
   "metadata": {},
   "outputs": [],
   "source": []
  }
 ],
 "metadata": {
  "kernelspec": {
   "display_name": "Python 3",
   "language": "python",
   "name": "python3"
  },
  "language_info": {
   "codemirror_mode": {
    "name": "ipython",
    "version": 3
   },
   "file_extension": ".py",
   "mimetype": "text/x-python",
   "name": "python",
   "nbconvert_exporter": "python",
   "pygments_lexer": "ipython3",
   "version": "3.8.6-final"
  }
 },
 "nbformat": 4,
 "nbformat_minor": 4
}